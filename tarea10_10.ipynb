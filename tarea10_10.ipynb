{
  "nbformat": 4,
  "nbformat_minor": 0,
  "metadata": {
    "colab": {
      "name": "tarea10-10.ipynb",
      "provenance": [],
      "authorship_tag": "ABX9TyOSDnC7XasvDP+qJvTq+zb0",
      "include_colab_link": true
    },
    "kernelspec": {
      "name": "python3",
      "display_name": "Python 3"
    },
    "language_info": {
      "name": "python"
    }
  },
  "cells": [
    {
      "cell_type": "markdown",
      "metadata": {
        "id": "view-in-github",
        "colab_type": "text"
      },
      "source": [
        "<a href=\"https://colab.research.google.com/github/osss2046/tareas/blob/main/tarea10_10.ipynb\" target=\"_parent\"><img src=\"https://colab.research.google.com/assets/colab-badge.svg\" alt=\"Open In Colab\"/></a>"
      ]
    },
    {
      "cell_type": "markdown",
      "source": [
        "tarea 10.10\n",
        "\n",
        "Ejercicio 5.2.12 libro de Burden\n",
        "\n",
        "Considere el problema de valor inicial\n",
        "\n",
        "$$\n",
        "y'(t) = -10y\\,,\\quad 0\\leq t\\leq 2\\,,\\quad y(0) = 1\n",
        "$$\n",
        "\n",
        "que tiene solución $y(t) = e^{-10t}$.¿Qué ocurre cuando el método de Euler se aplica a este problema con $h = 0.1$? ¿Viola la fórmula del error del método?"
      ],
      "metadata": {
        "id": "5s_ZLlqHvcar"
      }
    },
    {
      "cell_type": "code",
      "source": [
        "#importamos las librerias que vamos a usar\n",
        "import numpy as np\n",
        "import matplotlib.pyplot as plt"
      ],
      "metadata": {
        "id": "jrp8AYKovdN8"
      },
      "execution_count": 2,
      "outputs": []
    },
    {
      "cell_type": "code",
      "source": [
        "#importamos la definición del metodo de euler\n",
        "def euler(f, a, b, yo, N):\n",
        "  '''\n",
        "  Esta función utiliza el metodo de euler, dada una función f en el rango [a,b] con una condición inicial y0 y N numeros de divisiones.\n",
        "  '''\n",
        "    \n",
        "    h = (b-a)/N\n",
        "    t = a\n",
        "    w = yo\n",
        "    ts = np.zeros(N+1)\n",
        "    sol = np.zeros(N+1)\n",
        "    \n",
        "    for i in range(N):\n",
        "        ts[i] = t\n",
        "        sol[i] = w\n",
        "        w = w + h*f(t, w)\n",
        "        t = t + h\n",
        "        \n",
        "    ts[N] = t\n",
        "    sol[N] = w\n",
        "    \n",
        "    return ts, sol"
      ],
      "metadata": {
        "id": "7l6Wm3kevzdx"
      },
      "execution_count": 3,
      "outputs": []
    },
    {
      "cell_type": "code",
      "source": [
        "# definimos la función que corresponde al enunciado\n",
        "def f(t, y):\n",
        "    return -10*y\n",
        "\n",
        "euler(f, 0, 2, 1, 20)\n",
        "# ponemos N = 20 para ver lo ocurre cuando h=0.1\n",
        "#evaluamos y vemos que entrega 1 uno y puros ceros"
      ],
      "metadata": {
        "colab": {
          "base_uri": "https://localhost:8080/"
        },
        "id": "_yxYOzplv0Dh",
        "outputId": "d608a979-197d-4527-b7ba-63cab63470c6"
      },
      "execution_count": 28,
      "outputs": [
        {
          "output_type": "execute_result",
          "data": {
            "text/plain": [
              "(array([0. , 0.1, 0.2, 0.3, 0.4, 0.5, 0.6, 0.7, 0.8, 0.9, 1. , 1.1, 1.2,\n",
              "        1.3, 1.4, 1.5, 1.6, 1.7, 1.8, 1.9, 2. ]),\n",
              " array([1., 0., 0., 0., 0., 0., 0., 0., 0., 0., 0., 0., 0., 0., 0., 0., 0.,\n",
              "        0., 0., 0., 0.]))"
            ]
          },
          "metadata": {},
          "execution_count": 28
        }
      ]
    },
    {
      "cell_type": "code",
      "source": [
        "ts = np.linspace(0, 2, 100)\n",
        "plt.plot(ts, np.exp(-10*ts), label='Exacta')\n",
        "plt.plot(*euler(f, 0, 2, 1, 20), label='Aproximación de Euler h=0.1')\n",
        "plt.plot(*euler(f, 0, 2, 1, 100), label='Aproximación de Euler h=0.02')\n",
        "plt.legend()\n",
        "plt.xlabel('t')\n",
        "plt.ylabel('y(t)')\n",
        "# graficamos la función con la aproximación y vemos que decae abruptamente a cero, esta función decrece muy rapido, por lo tanto si tenemos\n",
        "# un h tan grande la aproximación es mala, debemos poner mas pasos N para que h sea mas pequeño"
      ],
      "metadata": {
        "colab": {
          "base_uri": "https://localhost:8080/",
          "height": 297
        },
        "id": "YYEyJMks6d8O",
        "outputId": "e650debd-6f98-4e79-8823-8a04b908fa8c"
      },
      "execution_count": 30,
      "outputs": [
        {
          "output_type": "execute_result",
          "data": {
            "text/plain": [
              "Text(0, 0.5, 'y(t)')"
            ]
          },
          "metadata": {},
          "execution_count": 30
        },
        {
          "output_type": "display_data",
          "data": {
            "image/png": "[encoded data removed]",
            "text/plain": [
              "<Figure size 432x288 with 1 Axes>"
            ]
          },
          "metadata": {
            "needs_background": "light"
          }
        }
      ]
    },
    {
      "cell_type": "code",
      "source": [
        "N = 20\n",
        "N2 = 2000\n",
        "ts, sol = euler(f, 0, 2, 1, N)\n",
        "exacta = np.exp(-10*ts)\n",
        "h = 2/N\n",
        "h2 = 2/N2\n",
        "M = np.abs(100*np.exp(-20))\n",
        "L = 1\n",
        "plt.scatter(ts, exacta - sol, label='Error real')\n",
        "plt.scatter(ts, h*M/(2*L)*(np.exp(L*ts) - 1), label='Cota del error')\n",
        "plt.legend()"
      ],
      "metadata": {
        "colab": {
          "base_uri": "https://localhost:8080/",
          "height": 283
        },
        "id": "o-dfJ_HF8-Ql",
        "outputId": "94238d4f-f359-41df-c0ca-ab0b4e45251a"
      },
      "execution_count": 44,
      "outputs": [
        {
          "output_type": "execute_result",
          "data": {
            "text/plain": [
              "<matplotlib.legend.Legend at 0x7ff256555610>"
            ]
          },
          "metadata": {},
          "execution_count": 44
        },
        {
          "output_type": "display_data",
          "data": {
            "image/png": "[encoded data removed]",
            "text/plain": [
              "<Figure size 432x288 with 1 Axes>"
            ]
          },
          "metadata": {
            "needs_background": "light"
          }
        }
      ]
    },
    {
      "cell_type": "code",
      "source": [
        "# vemos que el error real es mayor a la cota de error, por lo tanto esta fallando el la formula del error del metodo,\n",
        "# se puede intuir que se debe a que tenemos numeros que se multiplican por exponenciales de -20, los cuales decrecen demasiado rapido."
      ],
      "metadata": {
        "id": "-Wj6fg25BDCC"
      },
      "execution_count": null,
      "outputs": []
    }
  ]
}