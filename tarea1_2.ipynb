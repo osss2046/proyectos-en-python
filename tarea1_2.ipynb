{
  "nbformat": 4,
  "nbformat_minor": 0,
  "metadata": {
    "colab": {
      "name": "tarea1-2.ipynb",
      "provenance": [],
      "authorship_tag": "ABX9TyOOmgjSQhz8B/tdn0baiYhr",
      "include_colab_link": true
    },
    "kernelspec": {
      "name": "python3",
      "display_name": "Python 3"
    },
    "language_info": {
      "name": "python"
    }
  },
  "cells": [
    {
      "cell_type": "markdown",
      "metadata": {
        "id": "view-in-github",
        "colab_type": "text"
      },
      "source": [
        "<a href=\"https://colab.research.google.com/github/osss2046/tareas/blob/main/tarea1_2.ipynb\" target=\"_parent\"><img src=\"https://colab.research.google.com/assets/colab-badge.svg\" alt=\"Open In Colab\"/></a>"
      ]
    },
    {
      "cell_type": "code",
      "metadata": {
        "colab": {
          "base_uri": "https://localhost:8080/"
        },
        "id": "eH1W9yuvfUJ9",
        "outputId": "399f93b9-9012-449a-95b1-e97669b59176"
      },
      "source": [
        "#modificar el siguiente codigo para que no saque error:\n",
        "\n",
        "\n",
        "def fun(n):\n",
        "   # return 1 + \n",
        "   # fallaba en la linea anterior ya que 1+ no es un codigo conocido para python y debe ser 1 +n\n",
        "   return 1+n\n",
        "print(fun(1))\n",
        "\n",
        "\n"
      ],
      "execution_count": 2,
      "outputs": [
        {
          "output_type": "stream",
          "text": [
            "2\n"
          ],
          "name": "stdout"
        }
      ]
    }
  ]
}