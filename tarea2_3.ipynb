{
 "cells": [
  {
   "cell_type": "markdown",
   "metadata": {
    "id": "aVHxuZQxoY4G"
   },
   "source": [
    "A partir del siguiente array, representando una matriz, escriba un código produzca un nuevo sólo con los elementos de la segunda y tercera columna de cada fila, sin usar ciclos for ni while."
   ]
  },
  {
   "cell_type": "code",
   "execution_count": 19,
   "metadata": {
    "colab": {
     "base_uri": "https://localhost:8080/"
    },
    "id": "u5etnn3MoaV3",
    "outputId": "96b63e05-fce6-4afd-8555-8615235486ee",
    "scrolled": true
   },
   "outputs": [
    {
     "name": "stdout",
     "output_type": "stream",
     "text": [
      "[[1 1]\n",
      " [1 1]\n",
      " [3 4]\n",
      " [2 2]\n",
      " [2 3]]\n"
     ]
    }
   ],
   "source": [
    "#primero importamos numpy y lo llamamos np\n",
    "import numpy as np\n",
    "#esta es la matriz a la que se le pide solo mostrar la 2da y 3ra columna de cada fila\n",
    "mi_array = np.array([[1,1,1,1,3],[1,1,1,1,5],[2,3,4,5,6],[2,2,2,2,8],[1,2,3,4,5]])\n",
    "#definimos una nueva matriz que contenga solo lo que se pude, esto es toda las filas pero solo la 2ra y 3ra columna, recordad que array cuenta desde el 0\n",
    "nueva= mi_array[:,1:3]\n",
    "print(nueva)"
   ]
  },
  {
   "cell_type": "markdown",
   "metadata": {},
   "source": [
    "# Calificación: 5.0"
   ]
  },
  {
   "cell_type": "markdown",
   "metadata": {},
   "source": [
    "Tarea entregada con retraso (sin avisar), según el historial de github fue subida el 2 de septiembre."
   ]
  }
 ],
 "metadata": {
  "colab": {
   "collapsed_sections": [],
   "name": "tarea2-3.ipynb",
   "provenance": []
  },
  "kernelspec": {
   "display_name": "Python 3",
   "language": "python",
   "name": "python3"
  },
  "language_info": {
   "codemirror_mode": {
    "name": "ipython",
    "version": 3
   },
   "file_extension": ".py",
   "mimetype": "text/x-python",
   "name": "python",
   "nbconvert_exporter": "python",
   "pygments_lexer": "ipython3",
   "version": "3.8.5"
  }
 },
 "nbformat": 4,
 "nbformat_minor": 1
}
