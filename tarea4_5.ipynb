{
  "nbformat": 4,
  "nbformat_minor": 0,
  "metadata": {
    "colab": {
      "name": "tarea4-5.ipynb",
      "provenance": [],
      "collapsed_sections": []
    },
    "kernelspec": {
      "name": "python3",
      "display_name": "Python 3"
    },
    "language_info": {
      "name": "python"
    }
  },
  "cells": [
    {
      "cell_type": "markdown",
      "metadata": {
        "id": "51qJyrKQWnx6"
      },
      "source": [
        "Queremos aproximar  sin(1) . Para hacerlo usamos la serie de Taylor hasta el  n -ésimo término.\n",
        "\n",
        "Defina una función para la aproximación de  sin(1)  al  n -ésimo término.\n",
        "Escriba un código que grafique la aproximación en función de  n . Escoja un rango que permita ver cuándo se obtiene una convergencia aceptable. Este gráfico debe tener barras de error que representen el tamaño del error cometido al hacer la aproximación."
      ]
    },
    {
      "cell_type": "code",
      "metadata": {
        "colab": {
          "base_uri": "https://localhost:8080/",
          "height": 279
        },
        "id": "ap6rpywGWr9d",
        "outputId": "efe6aa90-82c4-4595-eb75-5b83d5788b0e"
      },
      "source": [
        "import matplotlib.pyplot as plt\n",
        "import numpy as np\n",
        "import math as mt\n",
        "\n",
        "#primero importamos las paquetes que vamos a usar\n",
        "\n",
        "\n",
        "def app_sen(n):\n",
        "  '''Esta función crea comienza a llenar un numero s y una matriz Y a partir \n",
        "  de una serie de taylor, cada termino n-esimo se le va agregando a la matriz Y\n",
        "  y finalmente se guarda esta matriz\n",
        "  '''\n",
        "  y=[] #definimos una matriz y vacida \n",
        "  s=0  #definimos la variable s =0\n",
        "  for i in range(1,n+1): #hacemos avanzar i desde 1 hasta n\n",
        "      s= s +(((-1)**(i-1))*(1**(2*i-1))/(mt.factorial(2*i-1)))  # a s le sumamos los terminos de la serie de taylor\n",
        "      y.append(float(s)) # a la matriz Y le vamos agregando los terminos que se le van sumando a s\n",
        "  return y # hacemos que entregue Y \n",
        "\n",
        "\n",
        "\n",
        "#Ahora usamos la función definida para aproximar sin(1), dado que la serie se aproxima bastante bien a partir del 2do termino,\n",
        "#solo vamos a considerar 5 terminos en la serie, partiendo desde el 1 hasta el 5 y esto lo guardamos en la matriz y \n",
        "\n",
        "y=app_sen(5)\n",
        "x = np.linspace(1,5,5) #definimos vector de 5 elementos\n",
        "error=y-np.sin(1) #definimos el error como la resta de Y con el valor conocido de sin(1)\n",
        "plt.errorbar(x, y,error, fmt='-o')\n",
        "plt.xlabel('$n$')\n",
        "plt.ylabel('aproximación $sin(1)$')\n",
        "#finalmente agregamos las etiquetas a los ejes y graficamos con las barras de error\n",
        "plt.show()\n"
      ],
      "execution_count": 186,
      "outputs": [
        {
          "output_type": "display_data",
          "data": {
            "image/png": "[encoded data removed]",
            "text/plain": [
              "<Figure size 432x288 with 1 Axes>"
            ]
          },
          "metadata": {
            "needs_background": "light"
          }
        }
      ]
    }
  ]
}