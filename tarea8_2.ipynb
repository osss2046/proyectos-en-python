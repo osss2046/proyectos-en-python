{
  "nbformat": 4,
  "nbformat_minor": 0,
  "metadata": {
    "colab": {
      "name": "tarea8-2.ipynb",
      "provenance": [],
      "authorship_tag": "ABX9TyMIAxgMiKioqcY8D+IRHMbF"
    },
    "kernelspec": {
      "name": "python3",
      "display_name": "Python 3"
    },
    "language_info": {
      "name": "python"
    }
  },
  "cells": [
    {
      "cell_type": "markdown",
      "metadata": {
        "id": "RuCnL4E6jbbO"
      },
      "source": [
        "Escriba un código similar a la interpolación lineal de la clase, pero que realice una interpolación cuadrática. Es decir, este código interpola usando una parábola para cada trío de puntos. Grafique sus resultados para el mismo ejemplo usado en la interpolación lineal."
      ]
    },
    {
      "cell_type": "code",
      "metadata": {
        "colab": {
          "base_uri": "https://localhost:8080/",
          "height": 283
        },
        "id": "8VQBlLSBjebA",
        "outputId": "28611d61-23bc-43df-fb6f-afc2168bedb5"
      },
      "source": [
        "import numpy as np\n",
        "import matplotlib.pyplot as plt\n",
        "\n",
        "# profe aun no termino el problema por que creo que me surgio un problema en la frontera de\n",
        "# la interpolación cuadratica, primero utilice un [i+2] en los polinomios de lagrange pero se salia de los limites,\n",
        "# por lo tanto ahora utilice [i-1] y [i+1] pero la grafica no es nada a lo que se busca\n",
        "\n",
        "def find_ind(x, puntos):\n",
        "    for i in range(len(puntos)):\n",
        "        if x < puntos[i,0] and i != 0 :\n",
        "            return i-1\n",
        "\n",
        "def cuadr_interp(x, puntos):\n",
        "    if x >= puntos[len(puntos)-1,0]:\n",
        "        return puntos[len(puntos)-1,1]\n",
        "    elif x <= puntos[0,0]:\n",
        "        return puntos[0,1]\n",
        "    \n",
        "    i = find_ind(x, puntos)\n",
        "    L1 = puntos[i-1][1]*(x - puntos[i][0])/(puntos[i-1][0] - puntos[i][0])\n",
        "    L2 = puntos[i][1]*(x - puntos[i-1][0])/(puntos[i][0] - puntos[i-1][0])\n",
        "    L3 = puntos[i-1][1]*(x - puntos[i+1][0])/(puntos[i-1][0] - puntos[i+1][0])\n",
        "    L4 = puntos[i][1]*(x - puntos[i+1][0])/(puntos[i][0] - puntos[i+1][0]) \n",
        "    L5 = puntos[i+1][1]*(x - puntos[i-1][0])/(puntos[i+1][0] - puntos[i-1][0])\n",
        "    L6 = puntos[i+1][1]*(x - puntos[i][0])/(puntos[i+1][0] - puntos[i][0])\n",
        "    return  L1+L2+L3+L4+L5+L6\n",
        "\n",
        "\n",
        "\n",
        "\n",
        "mini = 0.1\n",
        "maxi = 20\n",
        "order = 9\n",
        "xp = np.linspace(mini, maxi, order)\n",
        "\n",
        "puntos = np.array([[xi, np.sin(xi)/xi] for xi in xp])\n",
        "\n",
        "x = np.linspace(mini, maxi, 100)\n",
        "exact = np.sin(x)/x\n",
        "# aplicamos la lineal\n",
        "lin = [cuadr_interp(xi, puntos) for xi in x]\n",
        "\n",
        "#graficamos\n",
        "plt.scatter(puntos[:,0], puntos[:,1], color='red')\n",
        "plt.plot(x, exact)\n",
        "plt.plot(x, lin)\n",
        "\n"
      ],
      "execution_count": 20,
      "outputs": [
        {
          "output_type": "execute_result",
          "data": {
            "text/plain": [
              "[<matplotlib.lines.Line2D at 0x7f91faf7b750>]"
            ]
          },
          "metadata": {},
          "execution_count": 20
        },
        {
          "output_type": "display_data",
          "data": {
            "image/png": "[encoded data removed]",
            "text/plain": [
              "<Figure size 432x288 with 1 Axes>"
            ]
          },
          "metadata": {
            "needs_background": "light"
          }
        }
      ]
    }
  ]
}