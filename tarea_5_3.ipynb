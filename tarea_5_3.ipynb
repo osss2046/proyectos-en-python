{
  "nbformat": 4,
  "nbformat_minor": 0,
  "metadata": {
    "colab": {
      "name": "tarea 5-3.ipynb",
      "provenance": [],
      "collapsed_sections": [],
      "authorship_tag": "ABX9TyOlwvughKePrBGbYNGexhkL"
    },
    "kernelspec": {
      "name": "python3",
      "display_name": "Python 3"
    },
    "language_info": {
      "name": "python"
    }
  },
  "cells": [
    {
      "cell_type": "markdown",
      "metadata": {
        "id": "rvw-otAEkK7w"
      },
      "source": [
        "Ejercicio sacado de \"Basic Probability Theory\", R. B. Ash, Dover, 1970.\n",
        "\n",
        "Se lanza un dado cargado, con probabilidades de {0.1,0.2,0.2,0.3,0.1,0.1} de obtener {1,2,3,4,5,6} respectivamente. Sea N el resultado obtenido al lanzar el dado, luego de lo cual se lanza una moneda N veces. Encuentre la probabilidad condicional de que N sea impar dado que se obtuvo al menos una cara.\n",
        "\n",
        "Pista: Construya primero la distribución de probabilidad con todos los resultados posibles junto con sus probabilidades, y luego use las siguientes funciones que definimos en clase.\n"
      ]
    },
    {
      "cell_type": "code",
      "metadata": {
        "colab": {
          "base_uri": "https://localhost:8080/"
        },
        "id": "8-FACR0-kPVx",
        "outputId": "4df25c05-ce0b-4cf0-8b28-7446229753c0"
      },
      "source": [
        "# Primero creamos un diccionario con la distribución de probabilidad, en primer lugar necesitamos que tengan asignamos la key del diccionario con\n",
        "# la letras (Q,W,E,R,T,Y) que representan los numeros del dado (1,2,3,4,5,6) respectivamente.\n",
        "# A estas letras les siguen (C,S) que representan cara y sello respectivamente, para que todos tengan el mismo rango se rellena con ceros.\n",
        "# en la parte de value del diccionario se introduce la probabilidad para cada posibilidad. Primero asignando la probabilidad del dado cargado y\n",
        "# luego la de la moneda.\n",
        "\n",
        "\n",
        "\n",
        "a=[str('Q') + str(n)+ str(0)+str(0)+str(0)+str(0)+str(0) for n in ['C','S']]\n",
        "a+=(str('W') + str(n) + str(p)+str(0)+str(0)+str(0)+str(0) for n in ['C','S'] for p in ['C','S'])\n",
        "a+=(str('E') + str(n) + str(p)+str(m)+str(0)+str(0)+str(0) for n in ['C','S'] for p in ['C','S'] for m in ['C','S'])\n",
        "a+=(str('R') + str(n) + str(p)+str(m)+str(r)+str(0)+str(0) for n in ['C','S'] for p in ['C','S'] for m in ['C','S'] for r in ['C','S'])\n",
        "a+=(str('T') + str(n) + str(p)+str(m)+str(r)+str(y)+str(0) for n in ['C','S'] for p in ['C','S'] for m in ['C','S'] for r in ['C','S'] for y in ['C','S'])\n",
        "a+=(str('Y') + str(n) + str(p)+str(m)+str(r)+str(y)+str(u) for n in ['C','S'] for p in ['C','S'] for m in ['C','S'] for r in ['C','S'] for y in ['C','S'] for u in ['C','S'])\n",
        "\n",
        "p = [0.1*0.5 for n in range(len(a)) if n in range(2)]\n",
        "p+= [0.2*0.5*0.5 for n in range(len(a)) if n in range(2,6)]\n",
        "p+= [0.2*0.5*0.5*0.5 for n in range(len(a)) if n in range(6,14)]\n",
        "p+= [0.3*0.5*0.5*0.5*0.5 for n in range(len(a)) if n in range(14,30)]\n",
        "p+= [0.1*0.5*0.5*0.5*0.5*0.5 for n in range(len(a)) if n in range(30,62)]\n",
        "p+= [0.1*0.5*0.5*0.5*0.5*0.5*0.5 for n in range(len(a)) if n in range(62,126)]\n",
        "\n",
        "# unimos key y value del diccionario con las funciones dict y zip de python y lo llamamos dist\n",
        "\n",
        "dist = (dict(zip(a, p)))\n",
        "\n",
        "#definimos la probabilidad condicional\n",
        "\n",
        "def prob_cond(A, B, dist):\n",
        "  '''\n",
        "  Nos entrega la probabilidad condicional de que se cumpla A dado B en la distribución.\n",
        "  Primero ve los datos del conjunto B que estan en la distribución para luego entregar una frecuencia de estos, luego toma los datos del conjunto A\n",
        "  que estan en el conjunto anterior para finalmente dividir la frecuencia de los datos pertenciantes al conjunto A sobre los del B\n",
        "  '''\n",
        "  conjuntoB = {e for e in dist.keys() if B(e)}\n",
        "  conjuntoA = {e for e in conjuntoB if A(e)}\n",
        "  frec_B = sum(dist[e] for e in conjuntoB)\n",
        "  frec = sum(dist[e] for e in conjuntoA)\n",
        "  return frec/frec_B\n",
        "\n",
        "#definimos los numeros impares del dado\n",
        "\n",
        "def impar(e):\n",
        "  '''\n",
        "  Observamos el primer elemento del key del diccionario, si este es (Q,E,T) lo que corresponde a los numeros (1,3,5) devolvemos esta cantidad.\n",
        "  '''\n",
        "  return e[0] == 'Q' or e[0] == 'E' or e[0] == 'T'\n",
        "\n",
        "# definimos al menos una cara\n",
        "\n",
        "def cara(e):\n",
        "  '''\n",
        "  Vemos desde el 2do hasta el 6to elemento del key del diccionario y si en alguno existe un 'C' correspondiente a Cara devolvemos esta cantidad.\n",
        "  '''\n",
        "  return e[1]== 'C' or e[2]=='C' or e[3]=='C' or e[4]=='C' or e[5]=='C' or e[6]=='C'\n",
        "\n",
        "# ejecutamos la probabilidad condicional dada las condiciones anteriormente definidas\n",
        "\n",
        "prob_cond(impar,cara,dist)\n"
      ],
      "execution_count": 9,
      "outputs": [
        {
          "output_type": "execute_result",
          "data": {
            "text/plain": [
              "0.37798165137614576"
            ]
          },
          "metadata": {},
          "execution_count": 9
        }
      ]
    },
    {
      "cell_type": "code",
      "metadata": {
        "id": "1_zusiq9qEMQ"
      },
      "source": [
        "'''dist={'A' :{str(1) + str(n) for n in range(2)}, 'B' :{str(2) + str(n) + str(p) for n in range(2) for p in range(2)},\n",
        "   'C':{str(3) + str(n) + str(p)+str(m) for n in range(2) for p in range(2) for m in range(2)},\n",
        "   'D':{str(4) + str(n) + str(p)+str(m)+str(r) for n in range(2) for p in range(2) for m in range(2) for r in range(2)},\n",
        "   'E':{str(5) + str(n) + str(p)+str(m)+str(r)+str(y) for n in range(2) for p in range(2) for m in range(2) for r in range(2) for y in range(2)},\n",
        "   'F':{str(6) + str(n) + str(p)+str(m)+str(r)+str(y)+str(u) for n in range(2) for p in range(2) for m in range(2) for r in range(2) for y in range(2) for u in range(2)}}\n",
        "\n",
        "'''\n",
        "a=[str('Q') + str(n) for n in ['C','S']]\n",
        "a+=(str('W') + str(n) + str(p) for n in ['C','S'] for p in ['C','S'])\n",
        "a+=(str('E') + str(n) + str(p)+str(m) for n in ['C','S'] for p in ['C','S'] for m in ['C','S'])\n",
        "a+=(str('R') + str(n) + str(p)+str(m)+str(r) for n in ['C','S'] for p in ['C','S'] for m in ['C','S'] for r in ['C','S'])\n",
        "a+=(str('T') + str(n) + str(p)+str(m)+str(r)+str(y) for n in ['C','S'] for p in ['C','S'] for m in ['C','S'] for r in ['C','S'] for y in ['C','S'])\n",
        "a+=(str('Y') + str(n) + str(p)+str(m)+str(r)+str(y)+str(u) for n in ['C','S'] for p in ['C','S'] for m in ['C','S'] for r in ['C','S'] for y in ['C','S'] for u in ['C','S'])\n",
        "a\n",
        "\n",
        "a=[str('Q') + str(n) for n in ['C','S']]\n",
        "a+=(str('W') + str(n) + str(p) for n in ['C','S'] for p in ['C','S'])\n",
        "a+=(str('E') + str(n) + str(p)+str(m) for n in ['C','S'] for p in ['C','S'] for m in ['C','S'])\n",
        "a+=(str('R') + str(n) + str(p)+str(m)+str(r) for n in ['C','S'] for p in ['C','S'] for m in ['C','S'] for r in ['C','S'])\n",
        "a+=(str('T') + str(n) + str(p)+str(m)+str(r)+str(y) for n in ['C','S'] for p in ['C','S'] for m in ['C','S'] for r in ['C','S'] for y in ['C','S'])\n",
        "a+=(str('Y') + str(n) + str(p)+str(m)+str(r)+str(y)+str(u) for n in ['C','S'] for p in ['C','S'] for m in ['C','S'] for r in ['C','S'] for y in ['C','S'] for u in ['C','S'])\n",
        "\n",
        "\n",
        "dist={\"\".join('A' + str(n) for n in ['C','S']) : 0.1 , 'B': 0.3}"
      ],
      "execution_count": 400,
      "outputs": []
    },
    {
      "cell_type": "code",
      "metadata": {
        "colab": {
          "base_uri": "https://localhost:8080/"
        },
        "id": "1QFDuENsQrKP",
        "outputId": "5fb092eb-33db-46e3-9424-52f2d3f0bd02"
      },
      "source": [
        "u = []\n",
        "def unirr(num):\n",
        "  for i in range(num):\n",
        "    global u\n",
        "    u +={str(num) + str(n) for n in range(2)}\n",
        "  return u\n",
        "unirr(4)\n",
        "\n",
        "#importante"
      ],
      "execution_count": 260,
      "outputs": [
        {
          "output_type": "execute_result",
          "data": {
            "text/plain": [
              "['40', '41', '40', '41', '40', '41', '40', '41']"
            ]
          },
          "metadata": {},
          "execution_count": 260
        }
      ]
    },
    {
      "cell_type": "code",
      "metadata": {
        "id": "F8fqYdFXa1Dx"
      },
      "source": [
        "\n",
        "'''prob_cond(fisica, mujer, dist)\n",
        "\n",
        "\n",
        "\n",
        "def prob_cond(A, B, dist):\n",
        "    \n",
        "    conjuntoB = {e for e in dist.keys() if B(e)}\n",
        "    conjuntoA = {e for e in conjuntoB if A(e)}\n",
        "    frec_B = sum(dist[e] for e in conjuntoB)\n",
        "    frec = sum(dist[e] for e in conjuntoA)\n",
        "    return frec/frec_B\n",
        "\n",
        "def fisica(e):\n",
        "  for i in range(N):\n",
        "    if N==1:\n",
        "    return e[0]=='c'\n",
        "    elif N==3:\n",
        "      return e[0]=='c' or e[1]=='c'\n",
        "    else\n",
        "      return e[0]=='c' or e[1]=='c' or e[3]=='c'\n",
        "'''\n"
      ],
      "execution_count": null,
      "outputs": []
    },
    {
      "cell_type": "code",
      "metadata": {
        "colab": {
          "base_uri": "https://localhost:8080/"
        },
        "id": "iAqDTkBtTFcV",
        "outputId": "10e7af8d-8a77-4856-886e-2aa56117b7c1"
      },
      "source": [
        "dist = {'c':1, 's':1}\n",
        "\n",
        "def prob(evento, dist):\n",
        "    '''\n",
        "    Calcula la probabilidad de un evento a partir de una distribución. El evento debe ser una función que\n",
        "    regresa verdadero o falso y la distribución debe ser un diccionario (evento: frecuencia)\n",
        "    '''\n",
        "    \n",
        "    conjunto = {e for e in dist.keys() if evento(e)}\n",
        "    total = sum(d for d in dist.values())\n",
        "    frec = sum(dist[e] for e in conjunto)\n",
        "    return frec/total\n",
        "N=1\n",
        "def cara(e):\n",
        "  for i in range(N):\n",
        "    if N==1:\n",
        "      return e[0]=='c'\n",
        "    elif N==3:\n",
        "      return e[0]=='c' or e[1]=='c' or e[2]=='c'\n",
        "    else:\n",
        "      return e[0]=='c' or e[1]=='c' or e[2]=='c' or e[3]=='c' or e[4]=='c'\n",
        "\n",
        "prob(cara,dist)\n",
        "\n",
        "\n",
        "\n",
        "\n",
        "\n"
      ],
      "execution_count": null,
      "outputs": [
        {
          "output_type": "execute_result",
          "data": {
            "text/plain": [
              "0.5"
            ]
          },
          "metadata": {},
          "execution_count": 132
        }
      ]
    },
    {
      "cell_type": "code",
      "metadata": {
        "id": "EnRtTi3qEmN5",
        "colab": {
          "base_uri": "https://localhost:8080/"
        },
        "outputId": "c7917dfe-fd96-4781-9305-6ee7a8697e84"
      },
      "source": [
        "dado = [1,2,2,3,3,4,4,4,5,6]\n",
        "import random\n",
        "N=random.choice(dado)\n",
        "M=[]\n",
        "moneda = [1,2]\n",
        "for i in range(N):\n",
        "  M.append(random.choice(moneda))\n",
        "print(len(M),M)\n",
        "espacio = dado + 2*M\n",
        "#print(espacio)\n",
        "evento = []\n",
        "ma=[]\n",
        "for i in espacio[:10]:\n",
        "  if i%2!=0:\n",
        "    evento.append(i)\n",
        "for e in M[:len(M)]:\n",
        "      if e%2 ==0:\n",
        "        ma.append(e)\n",
        "if ma == []:\n",
        "  evento = []\n",
        "\n",
        "list3 = [x for x in evento if x in espacio]\n",
        "#print(list3)\n",
        "A = len(list3)\n",
        "B = len(espacio)\n",
        "\n",
        "prob = A/B\n",
        "print(prob) \n",
        "\n"
      ],
      "execution_count": 458,
      "outputs": [
        {
          "output_type": "stream",
          "name": "stdout",
          "text": [
            "2 [2, 1]\n",
            "0.2857142857142857\n"
          ]
        }
      ]
    }
  ]
}