{
 "cells": [
  {
   "cell_type": "markdown",
   "metadata": {
    "id": "FI7i9xn4qMqr"
   },
   "source": [
    "En un experimento de mecánica cuántica que realizamos una sola vez queremos medir un observable $x$ que depende de un cantidad $M$. \n",
    "\n",
    "De la teoría podemos calcular la probabilidad de obtener $x$ para un valor dado de la masa reducida $M$\n",
    "\n",
    "$$\n",
    "\\rho(x|M) = \\frac{M}{\\sqrt{\\pi}}e^{-M^2x^2}\n",
    "$$\n",
    "\n",
    "Al medir $x$ se obtiene el siguiente resultado: \n"
   ]
  },
  {
   "cell_type": "code",
   "execution_count": null,
   "metadata": {
    "id": "SJ58IEkfqPGp"
   },
   "outputs": [],
   "source": [
    "x = 1.56"
   ]
  },
  {
   "cell_type": "markdown",
   "metadata": {
    "id": "GK2-TYoSqQ7J"
   },
   "source": [
    "Si todos los valores de M entre 0 y 10 son a priori igualmente probables, use el teorema de Bayes para encontrar ρ(M|x) y grafíquela para el valor de x dado. (ρ(x) se puede calcular exigiendo que la probabilidad ρ(M|x) esté bien normalizada).\n"
   ]
  },
  {
   "cell_type": "markdown",
   "metadata": {
    "id": "tYZwJs5CobB1"
   },
   "source": [
    "---\n",
    "**Respuesta**\n",
    "---\n",
    "\n",
    "\n",
    "nos dicen que $\\rho(x|M)$ es:\n",
    "$$\n",
    "\\rho(x|M) = \\frac{M}{\\sqrt{\\pi}}e^{-M^2x^2}\n",
    "$$\n",
    "Primero utilizando el teorema de Bayes tenemos que\n",
    "$$\n",
    "\\rho(M|x)=\\frac{\\rho(x|M)\\rho(M)}{\\rho(x)}\n",
    "$$\n",
    "sabemos que la probabilidad de $\\rho(M)$ es constante y esta esta dado por\n",
    "$$\n",
    "\\int_{\\infty}^{\\infty} \\rho(M) dM = \\rho(M)\\int_{0}^{10}  dM = 1\n",
    "$$\n",
    "por lo tanto tenemos que $\\rho(M)=1/10$ para cada valor de M entre 0 y 10.\n",
    "\\\\ \n",
    "También necesitamos obtener $\\rho(x)$, esto lo obtenemos a partir de la normalización de la probabilidad de $\\rho(M|x)$:\n",
    "$$\n",
    "\\int_{\\infty}^{\\infty} \\rho(M|x) dM = \\int_{\\infty}^{\\infty} \\frac{\\rho(x|M)\\rho(M)}{\\rho(x)} dM = \\frac{\\rho(M)}{\\rho(x)\\sqrt{\\pi}} \\int_{0}^{10} Me^{-M^2x^2} dM\n",
    "$$\n",
    "La suma de todas las probabilidades debe estar normalizada:\n",
    "$$\n",
    "\\frac{\\rho(M)}{\\rho(x)\\sqrt{\\pi}}\\left[\\frac{-e^{-M^2x^2}}{2x^2}\\right]_{0}^{10}=1\n",
    "$$\n",
    "por lo tanto tenemos que $\\rho(x)$ es\n",
    "$$\n",
    "\\rho(x)=\\frac{\\rho(M)}{\\sqrt{\\pi}}\\left[\\frac{-e^{-M^2x^2}}{2x^2}\\right]_{0}^{10}=\\frac{\\rho(M)}{\\sqrt{\\pi}}\\left[\\frac{-e^{-100x^2}+1}{2x^2} \\right]\n",
    "$$\n",
    "Ahora reemplazamos lo obtenido en la ecuacion obtenida por el teorema de Bayes\n",
    "$$\n",
    "\\rho(M|x)=\\frac{\\frac{M}{\\sqrt{\\pi}}e^{-M^2x^2}\\rho(M)}{\\frac{\\rho(M)}{\\sqrt{\\pi}}\\left[\\frac{-e^{-100x^2}+1}{2x^2} \\right]}\n",
    "$$\n",
    "simplificando terminos tenemos que\n",
    "$$\n",
    "\\rho(M|x)=\\frac{2xMe^{-M^2x^2}}{1-e^{-100x^2}}\n",
    "$$\n",
    "ingresamos el observable dado en el enunciado $x=1.56$ y luego graficamos.\n"
   ]
  },
  {
   "cell_type": "code",
   "execution_count": 13,
   "metadata": {
    "colab": {
     "base_uri": "https://localhost:8080/",
     "height": 265
    },
    "id": "hlBx-yd8vSVu",
    "outputId": "b573a329-8ee2-427d-de13-5df4200a53a9",
    "scrolled": true
   },
   "outputs": [
    {
     "data": {
      "image/png": "[encoded data removed]",
      "text/plain": [
       "<Figure size 432x288 with 1 Axes>"
      ]
     },
     "metadata": {
      "needs_background": "light"
     },
     "output_type": "display_data"
    }
   ],
   "source": [
    "#importamos las librerias que necesitamos para graficar y para escribir las ecuaciones\n",
    "import numpy as np\n",
    "import matplotlib.pyplot as plt\n",
    "\n",
    "\n",
    "#definimos la masa reducida entre 0 y 10 que es el intervalo donde esta definida\n",
    "M= np.linspace(0,10,100)\n",
    "# definimos la densidad probabilidad en función de la masa y agregamos x como un observable de valor 1.56\n",
    "dens= 2*1.56*M*np.exp(-M**2*1.56**2)/(1-np.exp(-100*1.56**2))\n",
    "# ploteamos la densidad de probabilidad en función de la masa reducida y agregamos una etiqueta.\n",
    "plt.plot(M, dens, label='densidad de probabilidad $ p(M)$')\n",
    "plt.legend()\n",
    "plt.show()\n"
   ]
  },
  {
   "cell_type": "markdown",
   "metadata": {},
   "source": [
    "# Calificación: 6.0"
   ]
  },
  {
   "cell_type": "markdown",
   "metadata": {},
   "source": [
    "Por el retraso en la entrega."
   ]
  }
 ],
 "metadata": {
  "colab": {
   "authorship_tag": "ABX9TyMM+8JHq+ET6bJKbQ/0hsK6",
   "collapsed_sections": [],
   "name": "tarea 6-3.ipynb",
   "provenance": []
  },
  "kernelspec": {
   "display_name": "Python 3",
   "language": "python",
   "name": "python3"
  },
  "language_info": {
   "codemirror_mode": {
    "name": "ipython",
    "version": 3
   },
   "file_extension": ".py",
   "mimetype": "text/x-python",
   "name": "python",
   "nbconvert_exporter": "python",
   "pygments_lexer": "ipython3",
   "version": "3.8.5"
  }
 },
 "nbformat": 4,
 "nbformat_minor": 1
}
